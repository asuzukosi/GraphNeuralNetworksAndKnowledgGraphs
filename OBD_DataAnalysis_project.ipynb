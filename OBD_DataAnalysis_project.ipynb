{
  "nbformat": 4,
  "nbformat_minor": 0,
  "metadata": {
    "colab": {
      "provenance": [],
      "authorship_tag": "ABX9TyPUJ4OL8rIGj4o5ZpZtW7f2",
      "include_colab_link": true
    },
    "kernelspec": {
      "name": "python3",
      "display_name": "Python 3"
    },
    "language_info": {
      "name": "python"
    }
  },
  "cells": [
    {
      "cell_type": "markdown",
      "metadata": {
        "id": "view-in-github",
        "colab_type": "text"
      },
      "source": [
        "<a href=\"https://colab.research.google.com/github/asuzukosi/GraphNeuralNetworksAndKnowledgGraphs/blob/main/OBD_DataAnalysis_project.ipynb\" target=\"_parent\"><img src=\"https://colab.research.google.com/assets/colab-badge.svg\" alt=\"Open In Colab\"/></a>"
      ]
    },
    {
      "cell_type": "markdown",
      "source": [
        "# Onboard Diagnositics data analytics project\n",
        "\n",
        "This project comprises of analysis of 14 drivers driving on their daily routes. The data is gathered from the power train module and also contains meta data about the vehicles.\n",
        "\n",
        "We perform Univariate and Bi-variate data analysis to gather insight from the data."
      ],
      "metadata": {
        "id": "xE6x3xyJMTgk"
      }
    },
    {
      "cell_type": "markdown",
      "source": [
        "## Install required libraries\n",
        "For the data analysis, we will be making use of numpy, pandas, matlotlib and seaborn for analysis and visualization."
      ],
      "metadata": {
        "id": "Cc_OfmEnziSh"
      }
    },
    {
      "cell_type": "code",
      "execution_count": 1,
      "metadata": {
        "id": "ZnpyY3BELXWZ"
      },
      "outputs": [],
      "source": [
        "import numpy as np\n",
        "import pandas as pd\n",
        "import os\n",
        "import matplotlib.pyplot as plt\n",
        "import seaborn as sns\n",
        "from sklearn.linear_model import LogisticRegression\n",
        "from pandas.plotting import register_matplotlib_converters\n",
        "register_matplotlib_converters()"
      ]
    },
    {
      "cell_type": "markdown",
      "source": [
        "## Extract data from xlsx files\n",
        "We will be extracting the OBD-DatasetII to use oin our analysis"
      ],
      "metadata": {
        "id": "eksF0JpCzxTP"
      }
    },
    {
      "cell_type": "code",
      "source": [
        "from google.colab import drive\n",
        "drive.mount('/content/drive')"
      ],
      "metadata": {
        "colab": {
          "base_uri": "https://localhost:8080/"
        },
        "id": "USHkj0P8zwMv",
        "outputId": "aa4851ea-5d40-4dfc-f81d-e76a29c39dcb"
      },
      "execution_count": 2,
      "outputs": [
        {
          "output_type": "stream",
          "name": "stdout",
          "text": [
            "Mounted at /content/drive\n"
          ]
        }
      ]
    },
    {
      "cell_type": "code",
      "source": [
        "data = pd.read_excel('/content/drive/MyDrive/advanced data science assessment/OBD-DATA.xlsx')\n",
        "data.head()"
      ],
      "metadata": {
        "colab": {
          "base_uri": "https://localhost:8080/",
          "height": 331
        },
        "id": "Usi03i6d0qbR",
        "outputId": "17441a25-df3d-4f75-d8e3-525c3e2592f6"
      },
      "execution_count": 3,
      "outputs": [
        {
          "output_type": "execute_result",
          "data": {
            "text/plain": [
              "       TIMESTAMP       MAKE  MODEL  CAR_YEAR  ENGINE_POWER AUTOMATIC  \\\n",
              "0  1502902504267  chevrolet  agile    2011.0           1.4         n   \n",
              "1  1502902512283  chevrolet  agile    2011.0           1.4         n   \n",
              "2  1502902520291  chevrolet  agile    2011.0           1.4         n   \n",
              "3  1502902528300  chevrolet  agile    2011.0           1.4         n   \n",
              "4  1502902536320  chevrolet  agile    2011.0           1.4         n   \n",
              "\n",
              "  VEHICLE_ID  BAROMETRIC_PRESSURE(KPA)  ENGINE_COOLANT_TEMP  FUEL_LEVEL  ...  \\\n",
              "0       car1                     100.0                 80.0       0.486  ...   \n",
              "1       car1                     100.0                 80.0       0.486  ...   \n",
              "2       car1                     100.0                 80.0       0.486  ...   \n",
              "3       car1                     100.0                 80.0       0.486  ...   \n",
              "4       car1                     100.0                 80.0       0.486  ...   \n",
              "\n",
              "   THROTTLE_POS         DTC_NUMBER  TROUBLE_CODES  TIMING_ADVANCE  \\\n",
              "0         0.251  MIL is OFF0 codes            NaN           0.569   \n",
              "1         0.251  MIL is OFF0 codes            NaN           0.565   \n",
              "2         0.251  MIL is OFF0 codes            NaN           0.573   \n",
              "3         0.251  MIL is OFF0 codes            NaN           0.565   \n",
              "4         0.251  MIL is OFF0 codes            NaN           0.569   \n",
              "\n",
              "   EQUIV_RATIO   MIN HOURS  DAYS_OF_WEEK  MONTHS    YEAR  \n",
              "0         0.01  13.0  16.0           2.0     8.0  2017.0  \n",
              "1         0.01  13.0  16.0           2.0     8.0  2017.0  \n",
              "2         0.01  13.0  16.0           2.0     8.0  2017.0  \n",
              "3         0.01  13.0  16.0           2.0     8.0  2017.0  \n",
              "4         0.01  13.0  16.0           2.0     8.0  2017.0  \n",
              "\n",
              "[5 rows x 33 columns]"
            ],
            "text/html": [
              "\n",
              "  <div id=\"df-42631fd6-71b7-4cbe-a6ed-79d1ef0ee2bd\" class=\"colab-df-container\">\n",
              "    <div>\n",
              "<style scoped>\n",
              "    .dataframe tbody tr th:only-of-type {\n",
              "        vertical-align: middle;\n",
              "    }\n",
              "\n",
              "    .dataframe tbody tr th {\n",
              "        vertical-align: top;\n",
              "    }\n",
              "\n",
              "    .dataframe thead th {\n",
              "        text-align: right;\n",
              "    }\n",
              "</style>\n",
              "<table border=\"1\" class=\"dataframe\">\n",
              "  <thead>\n",
              "    <tr style=\"text-align: right;\">\n",
              "      <th></th>\n",
              "      <th>TIMESTAMP</th>\n",
              "      <th>MAKE</th>\n",
              "      <th>MODEL</th>\n",
              "      <th>CAR_YEAR</th>\n",
              "      <th>ENGINE_POWER</th>\n",
              "      <th>AUTOMATIC</th>\n",
              "      <th>VEHICLE_ID</th>\n",
              "      <th>BAROMETRIC_PRESSURE(KPA)</th>\n",
              "      <th>ENGINE_COOLANT_TEMP</th>\n",
              "      <th>FUEL_LEVEL</th>\n",
              "      <th>...</th>\n",
              "      <th>THROTTLE_POS</th>\n",
              "      <th>DTC_NUMBER</th>\n",
              "      <th>TROUBLE_CODES</th>\n",
              "      <th>TIMING_ADVANCE</th>\n",
              "      <th>EQUIV_RATIO</th>\n",
              "      <th>MIN</th>\n",
              "      <th>HOURS</th>\n",
              "      <th>DAYS_OF_WEEK</th>\n",
              "      <th>MONTHS</th>\n",
              "      <th>YEAR</th>\n",
              "    </tr>\n",
              "  </thead>\n",
              "  <tbody>\n",
              "    <tr>\n",
              "      <th>0</th>\n",
              "      <td>1502902504267</td>\n",
              "      <td>chevrolet</td>\n",
              "      <td>agile</td>\n",
              "      <td>2011.0</td>\n",
              "      <td>1.4</td>\n",
              "      <td>n</td>\n",
              "      <td>car1</td>\n",
              "      <td>100.0</td>\n",
              "      <td>80.0</td>\n",
              "      <td>0.486</td>\n",
              "      <td>...</td>\n",
              "      <td>0.251</td>\n",
              "      <td>MIL is OFF0 codes</td>\n",
              "      <td>NaN</td>\n",
              "      <td>0.569</td>\n",
              "      <td>0.01</td>\n",
              "      <td>13.0</td>\n",
              "      <td>16.0</td>\n",
              "      <td>2.0</td>\n",
              "      <td>8.0</td>\n",
              "      <td>2017.0</td>\n",
              "    </tr>\n",
              "    <tr>\n",
              "      <th>1</th>\n",
              "      <td>1502902512283</td>\n",
              "      <td>chevrolet</td>\n",
              "      <td>agile</td>\n",
              "      <td>2011.0</td>\n",
              "      <td>1.4</td>\n",
              "      <td>n</td>\n",
              "      <td>car1</td>\n",
              "      <td>100.0</td>\n",
              "      <td>80.0</td>\n",
              "      <td>0.486</td>\n",
              "      <td>...</td>\n",
              "      <td>0.251</td>\n",
              "      <td>MIL is OFF0 codes</td>\n",
              "      <td>NaN</td>\n",
              "      <td>0.565</td>\n",
              "      <td>0.01</td>\n",
              "      <td>13.0</td>\n",
              "      <td>16.0</td>\n",
              "      <td>2.0</td>\n",
              "      <td>8.0</td>\n",
              "      <td>2017.0</td>\n",
              "    </tr>\n",
              "    <tr>\n",
              "      <th>2</th>\n",
              "      <td>1502902520291</td>\n",
              "      <td>chevrolet</td>\n",
              "      <td>agile</td>\n",
              "      <td>2011.0</td>\n",
              "      <td>1.4</td>\n",
              "      <td>n</td>\n",
              "      <td>car1</td>\n",
              "      <td>100.0</td>\n",
              "      <td>80.0</td>\n",
              "      <td>0.486</td>\n",
              "      <td>...</td>\n",
              "      <td>0.251</td>\n",
              "      <td>MIL is OFF0 codes</td>\n",
              "      <td>NaN</td>\n",
              "      <td>0.573</td>\n",
              "      <td>0.01</td>\n",
              "      <td>13.0</td>\n",
              "      <td>16.0</td>\n",
              "      <td>2.0</td>\n",
              "      <td>8.0</td>\n",
              "      <td>2017.0</td>\n",
              "    </tr>\n",
              "    <tr>\n",
              "      <th>3</th>\n",
              "      <td>1502902528300</td>\n",
              "      <td>chevrolet</td>\n",
              "      <td>agile</td>\n",
              "      <td>2011.0</td>\n",
              "      <td>1.4</td>\n",
              "      <td>n</td>\n",
              "      <td>car1</td>\n",
              "      <td>100.0</td>\n",
              "      <td>80.0</td>\n",
              "      <td>0.486</td>\n",
              "      <td>...</td>\n",
              "      <td>0.251</td>\n",
              "      <td>MIL is OFF0 codes</td>\n",
              "      <td>NaN</td>\n",
              "      <td>0.565</td>\n",
              "      <td>0.01</td>\n",
              "      <td>13.0</td>\n",
              "      <td>16.0</td>\n",
              "      <td>2.0</td>\n",
              "      <td>8.0</td>\n",
              "      <td>2017.0</td>\n",
              "    </tr>\n",
              "    <tr>\n",
              "      <th>4</th>\n",
              "      <td>1502902536320</td>\n",
              "      <td>chevrolet</td>\n",
              "      <td>agile</td>\n",
              "      <td>2011.0</td>\n",
              "      <td>1.4</td>\n",
              "      <td>n</td>\n",
              "      <td>car1</td>\n",
              "      <td>100.0</td>\n",
              "      <td>80.0</td>\n",
              "      <td>0.486</td>\n",
              "      <td>...</td>\n",
              "      <td>0.251</td>\n",
              "      <td>MIL is OFF0 codes</td>\n",
              "      <td>NaN</td>\n",
              "      <td>0.569</td>\n",
              "      <td>0.01</td>\n",
              "      <td>13.0</td>\n",
              "      <td>16.0</td>\n",
              "      <td>2.0</td>\n",
              "      <td>8.0</td>\n",
              "      <td>2017.0</td>\n",
              "    </tr>\n",
              "  </tbody>\n",
              "</table>\n",
              "<p>5 rows × 33 columns</p>\n",
              "</div>\n",
              "    <div class=\"colab-df-buttons\">\n",
              "\n",
              "  <div class=\"colab-df-container\">\n",
              "    <button class=\"colab-df-convert\" onclick=\"convertToInteractive('df-42631fd6-71b7-4cbe-a6ed-79d1ef0ee2bd')\"\n",
              "            title=\"Convert this dataframe to an interactive table.\"\n",
              "            style=\"display:none;\">\n",
              "\n",
              "  <svg xmlns=\"http://www.w3.org/2000/svg\" height=\"24px\" viewBox=\"0 -960 960 960\">\n",
              "    <path d=\"M120-120v-720h720v720H120Zm60-500h600v-160H180v160Zm220 220h160v-160H400v160Zm0 220h160v-160H400v160ZM180-400h160v-160H180v160Zm440 0h160v-160H620v160ZM180-180h160v-160H180v160Zm440 0h160v-160H620v160Z\"/>\n",
              "  </svg>\n",
              "    </button>\n",
              "\n",
              "  <style>\n",
              "    .colab-df-container {\n",
              "      display:flex;\n",
              "      gap: 12px;\n",
              "    }\n",
              "\n",
              "    .colab-df-convert {\n",
              "      background-color: #E8F0FE;\n",
              "      border: none;\n",
              "      border-radius: 50%;\n",
              "      cursor: pointer;\n",
              "      display: none;\n",
              "      fill: #1967D2;\n",
              "      height: 32px;\n",
              "      padding: 0 0 0 0;\n",
              "      width: 32px;\n",
              "    }\n",
              "\n",
              "    .colab-df-convert:hover {\n",
              "      background-color: #E2EBFA;\n",
              "      box-shadow: 0px 1px 2px rgba(60, 64, 67, 0.3), 0px 1px 3px 1px rgba(60, 64, 67, 0.15);\n",
              "      fill: #174EA6;\n",
              "    }\n",
              "\n",
              "    .colab-df-buttons div {\n",
              "      margin-bottom: 4px;\n",
              "    }\n",
              "\n",
              "    [theme=dark] .colab-df-convert {\n",
              "      background-color: #3B4455;\n",
              "      fill: #D2E3FC;\n",
              "    }\n",
              "\n",
              "    [theme=dark] .colab-df-convert:hover {\n",
              "      background-color: #434B5C;\n",
              "      box-shadow: 0px 1px 3px 1px rgba(0, 0, 0, 0.15);\n",
              "      filter: drop-shadow(0px 1px 2px rgba(0, 0, 0, 0.3));\n",
              "      fill: #FFFFFF;\n",
              "    }\n",
              "  </style>\n",
              "\n",
              "    <script>\n",
              "      const buttonEl =\n",
              "        document.querySelector('#df-42631fd6-71b7-4cbe-a6ed-79d1ef0ee2bd button.colab-df-convert');\n",
              "      buttonEl.style.display =\n",
              "        google.colab.kernel.accessAllowed ? 'block' : 'none';\n",
              "\n",
              "      async function convertToInteractive(key) {\n",
              "        const element = document.querySelector('#df-42631fd6-71b7-4cbe-a6ed-79d1ef0ee2bd');\n",
              "        const dataTable =\n",
              "          await google.colab.kernel.invokeFunction('convertToInteractive',\n",
              "                                                    [key], {});\n",
              "        if (!dataTable) return;\n",
              "\n",
              "        const docLinkHtml = 'Like what you see? Visit the ' +\n",
              "          '<a target=\"_blank\" href=https://colab.research.google.com/notebooks/data_table.ipynb>data table notebook</a>'\n",
              "          + ' to learn more about interactive tables.';\n",
              "        element.innerHTML = '';\n",
              "        dataTable['output_type'] = 'display_data';\n",
              "        await google.colab.output.renderOutput(dataTable, element);\n",
              "        const docLink = document.createElement('div');\n",
              "        docLink.innerHTML = docLinkHtml;\n",
              "        element.appendChild(docLink);\n",
              "      }\n",
              "    </script>\n",
              "  </div>\n",
              "\n",
              "\n",
              "<div id=\"df-50fba9c5-e115-4e11-8654-e21c5e9c330f\">\n",
              "  <button class=\"colab-df-quickchart\" onclick=\"quickchart('df-50fba9c5-e115-4e11-8654-e21c5e9c330f')\"\n",
              "            title=\"Suggest charts\"\n",
              "            style=\"display:none;\">\n",
              "\n",
              "<svg xmlns=\"http://www.w3.org/2000/svg\" height=\"24px\"viewBox=\"0 0 24 24\"\n",
              "     width=\"24px\">\n",
              "    <g>\n",
              "        <path d=\"M19 3H5c-1.1 0-2 .9-2 2v14c0 1.1.9 2 2 2h14c1.1 0 2-.9 2-2V5c0-1.1-.9-2-2-2zM9 17H7v-7h2v7zm4 0h-2V7h2v10zm4 0h-2v-4h2v4z\"/>\n",
              "    </g>\n",
              "</svg>\n",
              "  </button>\n",
              "\n",
              "<style>\n",
              "  .colab-df-quickchart {\n",
              "      --bg-color: #E8F0FE;\n",
              "      --fill-color: #1967D2;\n",
              "      --hover-bg-color: #E2EBFA;\n",
              "      --hover-fill-color: #174EA6;\n",
              "      --disabled-fill-color: #AAA;\n",
              "      --disabled-bg-color: #DDD;\n",
              "  }\n",
              "\n",
              "  [theme=dark] .colab-df-quickchart {\n",
              "      --bg-color: #3B4455;\n",
              "      --fill-color: #D2E3FC;\n",
              "      --hover-bg-color: #434B5C;\n",
              "      --hover-fill-color: #FFFFFF;\n",
              "      --disabled-bg-color: #3B4455;\n",
              "      --disabled-fill-color: #666;\n",
              "  }\n",
              "\n",
              "  .colab-df-quickchart {\n",
              "    background-color: var(--bg-color);\n",
              "    border: none;\n",
              "    border-radius: 50%;\n",
              "    cursor: pointer;\n",
              "    display: none;\n",
              "    fill: var(--fill-color);\n",
              "    height: 32px;\n",
              "    padding: 0;\n",
              "    width: 32px;\n",
              "  }\n",
              "\n",
              "  .colab-df-quickchart:hover {\n",
              "    background-color: var(--hover-bg-color);\n",
              "    box-shadow: 0 1px 2px rgba(60, 64, 67, 0.3), 0 1px 3px 1px rgba(60, 64, 67, 0.15);\n",
              "    fill: var(--button-hover-fill-color);\n",
              "  }\n",
              "\n",
              "  .colab-df-quickchart-complete:disabled,\n",
              "  .colab-df-quickchart-complete:disabled:hover {\n",
              "    background-color: var(--disabled-bg-color);\n",
              "    fill: var(--disabled-fill-color);\n",
              "    box-shadow: none;\n",
              "  }\n",
              "\n",
              "  .colab-df-spinner {\n",
              "    border: 2px solid var(--fill-color);\n",
              "    border-color: transparent;\n",
              "    border-bottom-color: var(--fill-color);\n",
              "    animation:\n",
              "      spin 1s steps(1) infinite;\n",
              "  }\n",
              "\n",
              "  @keyframes spin {\n",
              "    0% {\n",
              "      border-color: transparent;\n",
              "      border-bottom-color: var(--fill-color);\n",
              "      border-left-color: var(--fill-color);\n",
              "    }\n",
              "    20% {\n",
              "      border-color: transparent;\n",
              "      border-left-color: var(--fill-color);\n",
              "      border-top-color: var(--fill-color);\n",
              "    }\n",
              "    30% {\n",
              "      border-color: transparent;\n",
              "      border-left-color: var(--fill-color);\n",
              "      border-top-color: var(--fill-color);\n",
              "      border-right-color: var(--fill-color);\n",
              "    }\n",
              "    40% {\n",
              "      border-color: transparent;\n",
              "      border-right-color: var(--fill-color);\n",
              "      border-top-color: var(--fill-color);\n",
              "    }\n",
              "    60% {\n",
              "      border-color: transparent;\n",
              "      border-right-color: var(--fill-color);\n",
              "    }\n",
              "    80% {\n",
              "      border-color: transparent;\n",
              "      border-right-color: var(--fill-color);\n",
              "      border-bottom-color: var(--fill-color);\n",
              "    }\n",
              "    90% {\n",
              "      border-color: transparent;\n",
              "      border-bottom-color: var(--fill-color);\n",
              "    }\n",
              "  }\n",
              "</style>\n",
              "\n",
              "  <script>\n",
              "    async function quickchart(key) {\n",
              "      const quickchartButtonEl =\n",
              "        document.querySelector('#' + key + ' button');\n",
              "      quickchartButtonEl.disabled = true;  // To prevent multiple clicks.\n",
              "      quickchartButtonEl.classList.add('colab-df-spinner');\n",
              "      try {\n",
              "        const charts = await google.colab.kernel.invokeFunction(\n",
              "            'suggestCharts', [key], {});\n",
              "      } catch (error) {\n",
              "        console.error('Error during call to suggestCharts:', error);\n",
              "      }\n",
              "      quickchartButtonEl.classList.remove('colab-df-spinner');\n",
              "      quickchartButtonEl.classList.add('colab-df-quickchart-complete');\n",
              "    }\n",
              "    (() => {\n",
              "      let quickchartButtonEl =\n",
              "        document.querySelector('#df-50fba9c5-e115-4e11-8654-e21c5e9c330f button');\n",
              "      quickchartButtonEl.style.display =\n",
              "        google.colab.kernel.accessAllowed ? 'block' : 'none';\n",
              "    })();\n",
              "  </script>\n",
              "</div>\n",
              "    </div>\n",
              "  </div>\n"
            ]
          },
          "metadata": {},
          "execution_count": 3
        }
      ]
    },
    {
      "cell_type": "markdown",
      "source": [
        "## Extract Trouble codes\n",
        "We want to count the fraction of data instances with recorded trouble instances"
      ],
      "metadata": {
        "id": "LWKVCi911QsN"
      }
    },
    {
      "cell_type": "code",
      "source": [
        "data[data['TROUBLE_CODES'].notnull()].shape,data.shape"
      ],
      "metadata": {
        "colab": {
          "base_uri": "https://localhost:8080/"
        },
        "id": "0G2WAljp1PW3",
        "outputId": "eca87022-7578-4bac-81d1-54555aeb9898"
      },
      "execution_count": 4,
      "outputs": [
        {
          "output_type": "execute_result",
          "data": {
            "text/plain": [
              "((11925, 33), (47514, 33))"
            ]
          },
          "metadata": {},
          "execution_count": 4
        }
      ]
    },
    {
      "cell_type": "code",
      "source": [
        "(11925 * 100) / 47514. # 25% of the data has reported trouble codes"
      ],
      "metadata": {
        "colab": {
          "base_uri": "https://localhost:8080/"
        },
        "id": "8QP3iMpt1gnQ",
        "outputId": "a36eb24a-b292-4f42-da49-637a0e8a5a5d"
      },
      "execution_count": 6,
      "outputs": [
        {
          "output_type": "execute_result",
          "data": {
            "text/plain": [
              "25.0978658921581"
            ]
          },
          "metadata": {},
          "execution_count": 6
        }
      ]
    },
    {
      "cell_type": "code",
      "source": [
        "data.info()"
      ],
      "metadata": {
        "colab": {
          "base_uri": "https://localhost:8080/"
        },
        "id": "P4D6So8X1002",
        "outputId": "f9068abe-952e-4f26-cc06-bcd85d78548e"
      },
      "execution_count": 7,
      "outputs": [
        {
          "output_type": "stream",
          "name": "stdout",
          "text": [
            "<class 'pandas.core.frame.DataFrame'>\n",
            "RangeIndex: 47514 entries, 0 to 47513\n",
            "Data columns (total 33 columns):\n",
            " #   Column                       Non-Null Count  Dtype  \n",
            "---  ------                       --------------  -----  \n",
            " 0   TIMESTAMP                    47514 non-null  int64  \n",
            " 1   MAKE                         47459 non-null  object \n",
            " 2   MODEL                        47459 non-null  object \n",
            " 3   CAR_YEAR                     47459 non-null  float64\n",
            " 4   ENGINE_POWER                 47459 non-null  float64\n",
            " 5   AUTOMATIC                    47459 non-null  object \n",
            " 6   VEHICLE_ID                   47514 non-null  object \n",
            " 7   BAROMETRIC_PRESSURE(KPA)     10212 non-null  float64\n",
            " 8   ENGINE_COOLANT_TEMP          33964 non-null  float64\n",
            " 9   FUEL_LEVEL                   2994 non-null   float64\n",
            " 10  ENGINE_LOAD                  30972 non-null  float64\n",
            " 11  AMBIENT_AIR_TEMP             3619 non-null   float64\n",
            " 12  ENGINE_RPM                   33859 non-null  float64\n",
            " 13  INTAKE_MANIFOLD_PRESSURE     25089 non-null  float64\n",
            " 14  MAF                          11828 non-null  float64\n",
            " 15  LONG TERM FUEL TRIM BANK 2   13070 non-null  float64\n",
            " 16  FUEL_TYPE                    20005 non-null  object \n",
            " 17  AIR_INTAKE_TEMP              34352 non-null  float64\n",
            " 18  FUEL_PRESSURE                138 non-null    float64\n",
            " 19  SPEED                        46529 non-null  float64\n",
            " 20  SHORT TERM FUEL TRIM BANK 2  13070 non-null  float64\n",
            " 21  SHORT TERM FUEL TRIM BANK 1  37595 non-null  float64\n",
            " 22  ENGINE_RUNTIME               11902 non-null  object \n",
            " 23  THROTTLE_POS                 33859 non-null  float64\n",
            " 24  DTC_NUMBER                   47142 non-null  object \n",
            " 25  TROUBLE_CODES                11925 non-null  object \n",
            " 26  TIMING_ADVANCE               34162 non-null  float64\n",
            " 27  EQUIV_RATIO                  11896 non-null  float64\n",
            " 28  MIN                          47512 non-null  float64\n",
            " 29  HOURS                        47512 non-null  float64\n",
            " 30  DAYS_OF_WEEK                 47512 non-null  float64\n",
            " 31  MONTHS                       47512 non-null  float64\n",
            " 32  YEAR                         47512 non-null  float64\n",
            "dtypes: float64(24), int64(1), object(8)\n",
            "memory usage: 12.0+ MB\n"
          ]
        }
      ]
    },
    {
      "cell_type": "code",
      "source": [
        "data['TROUBLE_CODES'].unique() # extract names of unique trouble codes"
      ],
      "metadata": {
        "colab": {
          "base_uri": "https://localhost:8080/"
        },
        "id": "HaXcpX9B16rx",
        "outputId": "a6036fa2-16cb-4436-b99d-1519605e7fde"
      },
      "execution_count": 8,
      "outputs": [
        {
          "output_type": "execute_result",
          "data": {
            "text/plain": [
              "array([nan, 'P0133', 'C0300', 'P0079P2004P3000', 'P0078U1004P3000',\n",
              "       'P0079C1004P3000', 'P007EP2036P18F0', 'P007EP2036P18D0',\n",
              "       'P007FP2036P18D0', 'P0079P1004P3000', 'P007EP2036P18E0',\n",
              "       'P007FP2036P18E0', 'P0078B0004P3000', 'P007FP2036P18F0'],\n",
              "      dtype=object)"
            ]
          },
          "metadata": {},
          "execution_count": 8
        }
      ]
    },
    {
      "cell_type": "markdown",
      "source": [
        "## Drop dtaa points without Trouble codes\n",
        "Since we wish to analyse the data which have trouble codes, we can drop the rest of the data"
      ],
      "metadata": {
        "id": "qvxPn6zg2MLI"
      }
    },
    {
      "cell_type": "code",
      "source": [
        "data = data.dropna(subset = ['TROUBLE_CODES']).reset_index(drop=True) # getting rid of null values from trouble codes\n",
        "data['TIMESTAMP'] = pd.to_datetime(data['TIMESTAMP'], unit='ms') # converting Timestamp to proper format."
      ],
      "metadata": {
        "id": "vR536Sfx2BID"
      },
      "execution_count": 9,
      "outputs": []
    }
  ]
}